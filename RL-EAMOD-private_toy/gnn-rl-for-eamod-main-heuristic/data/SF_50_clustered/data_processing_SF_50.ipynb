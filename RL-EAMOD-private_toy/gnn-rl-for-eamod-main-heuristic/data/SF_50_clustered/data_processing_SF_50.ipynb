{
 "cells": [
  {
   "cell_type": "code",
   "execution_count": 10,
   "metadata": {},
   "outputs": [],
   "source": [
    "import json\n",
    "from collections import defaultdict\n",
    "import numpy as np\n",
    "import matplotlib.pyplot as plt\n",
    "import pickle\n",
    "import math"
   ]
  },
  {
   "cell_type": "code",
   "execution_count": 13,
   "metadata": {},
   "outputs": [
    {
     "name": "stdout",
     "output_type": "stream",
     "text": [
      "2296149\n",
      "(50, 50, 24)\n",
      "52\n"
     ]
    }
   ],
   "source": [
    "od_data = np.load('od_matrix.npy')\n",
    "duration_data = np.load('duration_matrix.npy')\n",
    "distance_data = np.load('distance_matrix.npy')\n",
    "# remove transit zones\n",
    "od_data = od_data[:-3, :-3, :] # in requests\n",
    "duration_data = duration_data[:-3, :-3, :] # in sec\n",
    "distance_data = distance_data[:-3, :-3, :] # in miles\n",
    "# set remaing nans to avg\n",
    "avg_duration = int(np.nanmean(duration_data))\n",
    "duration_data[np.isnan(duration_data)] = avg_duration\n",
    "avg_distance = int(np.nanmean(distance_data))\n",
    "distance_data[np.isnan(distance_data)] = avg_distance\n",
    "delta_c = 0.75 # energy step [kWh] 0.75\n",
    "time_granularity = 0.25 # in h\n",
    "beta = 0.6 # in $ according to https://www.bls.gov/regions/west/news-release/averageenergyprices_sanfrancisco.htm#:~:text=San%20Francisco%20area%20households%20paid,per%20therm%20spent%20last%20year -> gives cost for kwh (0.30$/kwh)) + 0.30$ for maintenance \n",
    "chevy_bolt_capacity = 65 # in kWh\n",
    "chevy_bolt_usable_capacity = chevy_bolt_capacity * 0.6 # never go below 20% or above 80% of charge\n",
    "charger_capacity = 22.5 # assuming 22.5 kW Chargers\n",
    "charge_time_per_delta_c = math.ceil((delta_c/charger_capacity)/time_granularity)\n",
    "chevy_bolt_range = 230 # range in mi for mild city trips according to https://media.chevrolet.com/media/us/en/chevrolet/2022-bolt-euv-bolt-ev.detail.html/content/Pages/news/us/en/2021/feb/0214-boltev-bolteuv-specifications.html\n",
    "chevy_bolt_usable_range = chevy_bolt_range*0.6 # never go below 20% or above 80% of charge and assume 10% less efficient because of range https://cleantechnica.com/2017/10/13/autonomous-cars-shorter-range-due-high-power-consumption-computers/\n",
    "chevy_bolt_kwh_per_mi = chevy_bolt_usable_capacity/chevy_bolt_usable_range\n",
    "energy_distance = np.ceil(((distance_data * chevy_bolt_kwh_per_mi)/delta_c).max(axis=2))\n",
    "energy_distance[energy_distance==0] = 1 # we should always use energy to satisfy a trip\n",
    "np.save('energy_distance.npy', energy_distance)\n",
    "duration_data = np.round(duration_data/(3600*time_granularity)) # convert travel time from sec to h\n",
    "duration_data[duration_data==0] = 1. # it should always take time to satisfy a trip\n",
    "data_timespan = od_data.shape[2]\n",
    "episode_length = int(data_timespan/time_granularity)\n",
    "p_energy = np.ones(episode_length)*0.12586\n",
    "p_energy[int(16/time_granularity):int(21/time_granularity)] = 0.33474 # peak prices\n",
    "p_energy[int(9/time_granularity):int(14/time_granularity)] = 0.10320 # super off peak prices\n",
    "fleet_size = 116616 # got number from Justin Lukes optimization with boundary:283905, without boundary:116616\n",
    "number_chargelevels = int(chevy_bolt_usable_capacity/delta_c)\n",
    "number_spatial_nodes = 50\n",
    "print(number_chargelevels)"
   ]
  },
  {
   "cell_type": "code",
   "execution_count": 12,
   "metadata": {},
   "outputs": [
    {
     "name": "stdout",
     "output_type": "stream",
     "text": [
      "96\n"
     ]
    }
   ],
   "source": [
    "new_tripAttr = []\n",
    "new_reb_time = []\n",
    "new_total_acc = []\n",
    "for origin in range(duration_data.shape[0]):\n",
    "    for destination in range(duration_data.shape[1]):\n",
    "        for ts in range(episode_length):\n",
    "            attr = defaultdict()\n",
    "            attr['time_stamp'] = ts\n",
    "            attr['origin'] = origin\n",
    "            attr['destination'] = destination\n",
    "            attr['demand'] = round(od_data[origin,destination,int(ts*time_granularity)]*time_granularity) # create equal distributed demand over granular time\n",
    "            attr['price'] = distance_data[origin,destination,int(ts*time_granularity)]*0.91 + duration_data[origin,destination,int(ts*time_granularity)]*time_granularity * 0.39 + 2.20 + 2.70 # in $\n",
    "            new_tripAttr.append(attr)\n",
    "\n",
    "            reb = defaultdict()\n",
    "            reb['time_stamp'] = ts\n",
    "            reb['origin'] = origin\n",
    "            reb['destination'] = destination\n",
    "            reb['reb_time'] = int(duration_data[origin,destination,int(ts*time_granularity)])\n",
    "            new_reb_time.append(reb)\n",
    "\n",
    "for hour in range(24):\n",
    "    acc = defaultdict()\n",
    "    acc['hour'] = hour\n",
    "    acc['acc'] = math.ceil(fleet_size)\n",
    "    new_total_acc.append(acc)\n",
    "new_data = defaultdict()\n",
    "new_data['demand'] = new_tripAttr\n",
    "new_data['rebTime'] = new_reb_time\n",
    "new_data['totalAcc'] = new_total_acc\n",
    "new_data['chargelevels'] = number_chargelevels\n",
    "new_data['spacialNodes'] = number_spatial_nodes\n",
    "new_data['chargeTime'] = charge_time_per_delta_c\n",
    "new_data['episodeLength'] = episode_length\n",
    "new_data['energy_prices'] = p_energy.tolist()\n",
    "print(episode_length)\n",
    "with open('SF_50.json', 'w') as f:\n",
    "    json.dump(new_data, f)"
   ]
  },
  {
   "cell_type": "code",
   "execution_count": null,
   "metadata": {},
   "outputs": [],
   "source": []
  },
  {
   "cell_type": "code",
   "execution_count": null,
   "metadata": {},
   "outputs": [],
   "source": []
  }
 ],
 "metadata": {
  "kernelspec": {
   "display_name": "Python 3.7.12 ('pamod')",
   "language": "python",
   "name": "python3"
  },
  "language_info": {
   "codemirror_mode": {
    "name": "ipython",
    "version": 3
   },
   "file_extension": ".py",
   "mimetype": "text/x-python",
   "name": "python",
   "nbconvert_exporter": "python",
   "pygments_lexer": "ipython3",
   "version": "3.7.12"
  },
  "orig_nbformat": 4,
  "vscode": {
   "interpreter": {
    "hash": "0f8edb555df32b3dff9504d8c4d29eadaf231ea869cc9ae1afb4d8556d0e264c"
   }
  }
 },
 "nbformat": 4,
 "nbformat_minor": 2
}
