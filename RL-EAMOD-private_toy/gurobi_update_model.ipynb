{
 "cells": [
  {
   "cell_type": "code",
   "execution_count": 71,
   "id": "69b0c784",
   "metadata": {},
   "outputs": [],
   "source": [
    "import numpy as np\n",
    "import gurobipy as gp\n",
    "from gurobipy import GRB\n",
    "import time"
   ]
  },
  {
   "cell_type": "code",
   "execution_count": 72,
   "id": "28977f90",
   "metadata": {},
   "outputs": [],
   "source": [
    "# m variables\n",
    "# n constraints\n",
    "\n",
    "m = 1000\n",
    "n = 500\n",
    "\n",
    "# defining the constraint coefficients\n",
    "A = np.random.rand(n, m)\n",
    "\n",
    "# constants\n",
    "C = np.random.rand(n)\n",
    "\n",
    "# objective function coefficients\n",
    "O = np.random.rand(m)"
   ]
  },
  {
   "cell_type": "code",
   "execution_count": 83,
   "id": "4328f9d9",
   "metadata": {},
   "outputs": [],
   "source": [
    "# Class def for optimization\n",
    "\n",
    "class OptSolver:\n",
    "    \n",
    "    def __init__(self, n, m, A, C, O):\n",
    "        # Initialize model\n",
    "        self.model = gp.Model()\n",
    "        \n",
    "        # create variables\n",
    "        self.x = self.model.addVars(m, lb=0.0, ub=GRB.INFINITY, vtype=GRB.CONTINUOUS, name=\"x\")\n",
    "        \n",
    "        # create constraints\n",
    "        self.cons = {}\n",
    "        for i in range(n):\n",
    "            self.cons[i] = self.model.addConstr( sum(self.x[j] * O[j] for j in range(m)) <= C[i])\n",
    "        \n",
    "        # set objective\n",
    "        obj = sum(self.x[i] * O[i] for i in range(m))\n",
    "        self.model.setObjective(obj, GRB.MAXIMIZE)\n",
    "        \n",
    "    def update_constraints(self, C):\n",
    "        for i in range(n):\n",
    "            self.cons[i].RHS = C[i]\n",
    "        self.model.update()\n",
    "        \n",
    "    def update_objective(self, O):\n",
    "        obj = sum(self.x[i] * O[i] for i in range(m))\n",
    "        self.model.setObjective(obj, GRB.MAXIMIZE)\n",
    "        self.model.update()\n",
    "        "
   ]
  },
  {
   "cell_type": "code",
   "execution_count": 84,
   "id": "ab143475",
   "metadata": {},
   "outputs": [],
   "source": [
    "def optimization_function(n, m, A, C, O):\n",
    "    model = gp.Model()\n",
    "        \n",
    "    # create variables\n",
    "    x = model.addVars(m, lb=0.0, ub=GRB.INFINITY, vtype=GRB.CONTINUOUS, name=\"x\")\n",
    "\n",
    "    # create constraints\n",
    "    for i in range(n):\n",
    "        model.addConstr( sum(x[j] * O[j] for j in range(m)) <= C[i])\n",
    "\n",
    "    # set objective\n",
    "    obj = sum(x[i] * O[i] for i in range(m))\n",
    "    model.setObjective(obj, GRB.MAXIMIZE)\n",
    "\n",
    "    return None"
   ]
  },
  {
   "cell_type": "code",
   "execution_count": 85,
   "id": "3180bb45",
   "metadata": {},
   "outputs": [
    {
     "name": "stdout",
     "output_type": "stream",
     "text": [
      "Time to initialize class:  1.0098314790002405\n"
     ]
    }
   ],
   "source": [
    "# Initializing class variant (includes overhead for variable storage)\n",
    "\n",
    "tic = time.perf_counter()\n",
    "optsolver = OptSolver(n, m, A, C, O)\n",
    "toc = time.perf_counter()\n",
    "print(\"Time to initialize class: \", toc-tic)"
   ]
  },
  {
   "cell_type": "code",
   "execution_count": 86,
   "id": "ba8f386c",
   "metadata": {},
   "outputs": [
    {
     "name": "stdout",
     "output_type": "stream",
     "text": [
      "Time for function call:  1.0052726120002262\n"
     ]
    }
   ],
   "source": [
    "# function call (no overhead of variable storage)\n",
    "\n",
    "tic = time.perf_counter()\n",
    "optimization_function(n, m, A, C, O)\n",
    "toc = time.perf_counter()\n",
    "print(\"Time for function call: \", toc-tic)"
   ]
  },
  {
   "cell_type": "code",
   "execution_count": 89,
   "id": "7ad395c5",
   "metadata": {},
   "outputs": [
    {
     "name": "stdout",
     "output_type": "stream",
     "text": [
      "Time to update constraints:  0.0012453399999685644\n",
      "Time to update objective:  0.003421058999720117\n"
     ]
    }
   ],
   "source": [
    "# update constraints\n",
    "C = np.random.rand(n)\n",
    "tic = time.perf_counter()\n",
    "optsolver.update_constraints(C)\n",
    "toc = time.perf_counter()\n",
    "print(\"Time to update constraints: \", toc-tic)\n",
    "\n",
    "# update objective\n",
    "O = np.random.rand(m)\n",
    "tic = time.perf_counter()\n",
    "optsolver.update_objective(O)\n",
    "toc = time.perf_counter()\n",
    "print(\"Time to update objective: \", toc-tic)"
   ]
  },
  {
   "cell_type": "code",
   "execution_count": null,
   "id": "1ebe8131",
   "metadata": {},
   "outputs": [],
   "source": []
  },
  {
   "cell_type": "code",
   "execution_count": null,
   "id": "eab21b72",
   "metadata": {},
   "outputs": [],
   "source": []
  }
 ],
 "metadata": {
  "kernelspec": {
   "display_name": "Python 3 (ipykernel)",
   "language": "python",
   "name": "python3"
  },
  "language_info": {
   "codemirror_mode": {
    "name": "ipython",
    "version": 3
   },
   "file_extension": ".py",
   "mimetype": "text/x-python",
   "name": "python",
   "nbconvert_exporter": "python",
   "pygments_lexer": "ipython3",
   "version": "3.9.7"
  }
 },
 "nbformat": 4,
 "nbformat_minor": 5
}
