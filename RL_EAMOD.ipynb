{
  "cells": [
    {
      "cell_type": "code",
      "execution_count": 2,
      "metadata": {
        "colab": {
          "base_uri": "https://localhost:8080/"
        },
        "id": "E0eZvfR6jHH_",
        "outputId": "ebb89553-7f52-4411-c2c7-05623feb3c43"
      },
      "outputs": [
        {
          "output_type": "stream",
          "name": "stdout",
          "text": [
            "Done\n"
          ]
        }
      ],
      "source": [
        "from zipfile import ZipFile\n",
        "file_name = \"/content/gnn-rl-for-eamod-main.zip\"\n",
        "\n",
        "with ZipFile(file_name, 'r') as zip:\n",
        "  zip.extractall()\n",
        "  print('Done')"
      ]
    },
    {
      "cell_type": "code",
      "source": [
        "%cd \"gnn-rl-for-eamod-main\""
      ],
      "metadata": {
        "colab": {
          "base_uri": "https://localhost:8080/"
        },
        "id": "CYvjFf3rK8XZ",
        "outputId": "f5fe6228-434d-48a9-8434-f54e659d4386"
      },
      "execution_count": 5,
      "outputs": [
        {
          "output_type": "stream",
          "name": "stdout",
          "text": [
            "/content/gnn-rl-for-eamod-main\n"
          ]
        }
      ]
    },
    {
      "cell_type": "code",
      "execution_count": null,
      "metadata": {
        "id": "5Q1OIF3wpy3z"
      },
      "outputs": [],
      "source": [
        "pip install -r requirements.txt"
      ]
    },
    {
      "cell_type": "code",
      "source": [
        "!pip install condacolab\n",
        "import condacolab\n",
        "condacolab.install()"
      ],
      "metadata": {
        "colab": {
          "base_uri": "https://localhost:8080/"
        },
        "id": "g8EDlcCQ24QD",
        "outputId": "c9c00ba3-7296-45d0-d552-cb0f44ca0b4c"
      },
      "execution_count": 25,
      "outputs": [
        {
          "output_type": "stream",
          "name": "stdout",
          "text": [
            "Collecting condacolab\n",
            "  Downloading condacolab-0.1.3-py3-none-any.whl (6.8 kB)\n",
            "Installing collected packages: condacolab\n",
            "Successfully installed condacolab-0.1.3\n",
            "⏬ Downloading https://github.com/jaimergp/miniforge/releases/latest/download/Mambaforge-colab-Linux-x86_64.sh...\n",
            "📦 Installing...\n",
            "📌 Adjusting configuration...\n",
            "🩹 Patching environment...\n",
            "⏲ Done in 0:00:28\n",
            "🔁 Restarting kernel...\n"
          ]
        }
      ]
    },
    {
      "cell_type": "code",
      "source": [
        "import gurobipy as gp\n",
        "\n",
        "# Create environment with WLS license\n",
        "e = gp.Env(empty=True)\n",
        "e.setParam('WLSACCESSID', '8cad5801-28d8-4e2e-909e-3a7144c12eb5')\n",
        "e.setParam('WLSSECRET', 'a25b880b-8262-492f-a2e5-e36d6d78cc98')\n",
        "e.setParam('LICENSEID', 799876)\n",
        "e.start()\n",
        "model = gp.Model(env=e)"
      ],
      "metadata": {
        "colab": {
          "base_uri": "https://localhost:8080/"
        },
        "id": "TngkRxXUyqAT",
        "outputId": "fff4cc58-abdd-4145-dcab-a24e9378b317"
      },
      "execution_count": 13,
      "outputs": [
        {
          "output_type": "stream",
          "name": "stdout",
          "text": [
            "Set parameter Username\n",
            "Set parameter WLSAccessID\n",
            "Set parameter WLSSecret\n",
            "Set parameter LicenseID\n",
            "Academic license - for non-commercial use only - registered to hedomini@stanford.edu\n"
          ]
        }
      ]
    },
    {
      "cell_type": "code",
      "execution_count": 9,
      "metadata": {
        "id": "y-Pv7JAxkWFd",
        "colab": {
          "base_uri": "https://localhost:8080/"
        },
        "outputId": "768c3421-bddc-42cc-d113-829c5419bc8a"
      },
      "outputs": [
        {
          "output_type": "stream",
          "name": "stdout",
          "text": [
            "Episode 14 | Reward: -7590.00 | ServedDemand: 60.00 | Reb. Cost: 7650.00:   0% 14/16000 [00:07<2:23:09,  1.86it/s]Exception ignored in: <generator object tqdm.__iter__ at 0x7f16fc25f350>\n",
            "Traceback (most recent call last):\n",
            "  File \"/usr/local/lib/python3.7/dist-packages/tqdm/std.py\", line 1210, in __iter__\n",
            "    self.close()\n",
            "  File \"/usr/local/lib/python3.7/dist-packages/tqdm/std.py\", line 1289, in close\n",
            "    self._decr_instances(self)\n",
            "  File \"/usr/local/lib/python3.7/dist-packages/tqdm/std.py\", line 595, in _decr_instances\n",
            "    cls._instances.remove(instance)\n",
            "  File \"/usr/lib/python3.7/_weakrefset.py\", line 109, in remove\n",
            "    self.data.remove(ref(item))\n",
            "  File \"/usr/local/lib/python3.7/dist-packages/tqdm/utils.py\", line 75, in __eq__\n",
            "    return self._comparable == other._comparable\n",
            "  File \"/usr/local/lib/python3.7/dist-packages/tqdm/std.py\", line 1167, in _comparable\n",
            "    @property\n",
            "KeyboardInterrupt: \n",
            "Traceback (most recent call last):\n",
            "  File \"main.py\", line 82, in <module>\n",
            "    new_obs, rebreward, done, info = env.reb_step(rebAction)\n",
            "  File \"/content/gnn-rl-for-eamod-main/src/envs/amod_env.py\", line 191, in reb_step\n",
            "    self.dacc[j][t+self.rebTime[i,j][t]] += self.rebFlow[i,j][t+self.rebTime[i,j][t]]   \n",
            "KeyboardInterrupt\n"
          ]
        }
      ],
      "source": [
        "!python \"main.py\""
      ]
    },
    {
      "cell_type": "code",
      "source": [
        ""
      ],
      "metadata": {
        "id": "DNcXeIP_6fCT"
      },
      "execution_count": null,
      "outputs": []
    }
  ],
  "metadata": {
    "colab": {
      "collapsed_sections": [],
      "name": "RL_EAMOD.ipynb",
      "provenance": []
    },
    "kernelspec": {
      "display_name": "Python 3",
      "name": "python3"
    },
    "language_info": {
      "name": "python"
    }
  },
  "nbformat": 4,
  "nbformat_minor": 0
}