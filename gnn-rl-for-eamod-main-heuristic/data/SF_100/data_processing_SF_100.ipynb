{
 "cells": [
  {
   "cell_type": "code",
   "execution_count": 1,
   "metadata": {},
   "outputs": [],
   "source": [
    "import json\n",
    "from collections import defaultdict\n",
    "import numpy as np\n",
    "import matplotlib.pyplot as plt\n",
    "import pickle\n",
    "import math"
   ]
  },
  {
   "cell_type": "code",
   "execution_count": 2,
   "metadata": {},
   "outputs": [
    {
     "ename": "FileNotFoundError",
     "evalue": "[Errno 2] No such file or directory: 'od_matrix.npy'",
     "output_type": "error",
     "traceback": [
      "\u001b[0;31m---------------------------------------------------------------------------\u001b[0m",
      "\u001b[0;31mFileNotFoundError\u001b[0m                         Traceback (most recent call last)",
      "\u001b[0;32m<ipython-input-2-c3c6a65cbd85>\u001b[0m in \u001b[0;36m<module>\u001b[0;34m\u001b[0m\n\u001b[0;32m----> 1\u001b[0;31m \u001b[0mod_data\u001b[0m \u001b[0;34m=\u001b[0m \u001b[0mnp\u001b[0m\u001b[0;34m.\u001b[0m\u001b[0mload\u001b[0m\u001b[0;34m(\u001b[0m\u001b[0;34m'od_matrix.npy'\u001b[0m\u001b[0;34m)\u001b[0m\u001b[0;34m\u001b[0m\u001b[0;34m\u001b[0m\u001b[0m\n\u001b[0m\u001b[1;32m      2\u001b[0m \u001b[0mduration_data\u001b[0m \u001b[0;34m=\u001b[0m \u001b[0mnp\u001b[0m\u001b[0;34m.\u001b[0m\u001b[0mload\u001b[0m\u001b[0;34m(\u001b[0m\u001b[0;34m'duration_matrix.npy'\u001b[0m\u001b[0;34m)\u001b[0m\u001b[0;34m\u001b[0m\u001b[0;34m\u001b[0m\u001b[0m\n\u001b[1;32m      3\u001b[0m \u001b[0mdistance_data\u001b[0m \u001b[0;34m=\u001b[0m \u001b[0mnp\u001b[0m\u001b[0;34m.\u001b[0m\u001b[0mload\u001b[0m\u001b[0;34m(\u001b[0m\u001b[0;34m'distance_matrix.npy'\u001b[0m\u001b[0;34m)\u001b[0m\u001b[0;34m\u001b[0m\u001b[0;34m\u001b[0m\u001b[0m\n\u001b[1;32m      4\u001b[0m \u001b[0;31m# remove transit zones\u001b[0m\u001b[0;34m\u001b[0m\u001b[0;34m\u001b[0m\u001b[0;34m\u001b[0m\u001b[0m\n\u001b[1;32m      5\u001b[0m \u001b[0mod_data\u001b[0m \u001b[0;34m=\u001b[0m \u001b[0mod_data\u001b[0m\u001b[0;34m[\u001b[0m\u001b[0;34m:\u001b[0m\u001b[0;34m-\u001b[0m\u001b[0;36m3\u001b[0m\u001b[0;34m,\u001b[0m \u001b[0;34m:\u001b[0m\u001b[0;34m-\u001b[0m\u001b[0;36m3\u001b[0m\u001b[0;34m,\u001b[0m \u001b[0;34m:\u001b[0m\u001b[0;34m]\u001b[0m\u001b[0;34m\u001b[0m\u001b[0;34m\u001b[0m\u001b[0m\n",
      "\u001b[0;32m~/opt/anaconda3/envs/pamod/lib/python3.7/site-packages/numpy/lib/npyio.py\u001b[0m in \u001b[0;36mload\u001b[0;34m(file, mmap_mode, allow_pickle, fix_imports, encoding)\u001b[0m\n\u001b[1;32m    415\u001b[0m             \u001b[0mown_fid\u001b[0m \u001b[0;34m=\u001b[0m \u001b[0;32mFalse\u001b[0m\u001b[0;34m\u001b[0m\u001b[0;34m\u001b[0m\u001b[0m\n\u001b[1;32m    416\u001b[0m         \u001b[0;32melse\u001b[0m\u001b[0;34m:\u001b[0m\u001b[0;34m\u001b[0m\u001b[0;34m\u001b[0m\u001b[0m\n\u001b[0;32m--> 417\u001b[0;31m             \u001b[0mfid\u001b[0m \u001b[0;34m=\u001b[0m \u001b[0mstack\u001b[0m\u001b[0;34m.\u001b[0m\u001b[0menter_context\u001b[0m\u001b[0;34m(\u001b[0m\u001b[0mopen\u001b[0m\u001b[0;34m(\u001b[0m\u001b[0mos_fspath\u001b[0m\u001b[0;34m(\u001b[0m\u001b[0mfile\u001b[0m\u001b[0;34m)\u001b[0m\u001b[0;34m,\u001b[0m \u001b[0;34m\"rb\"\u001b[0m\u001b[0;34m)\u001b[0m\u001b[0;34m)\u001b[0m\u001b[0;34m\u001b[0m\u001b[0;34m\u001b[0m\u001b[0m\n\u001b[0m\u001b[1;32m    418\u001b[0m             \u001b[0mown_fid\u001b[0m \u001b[0;34m=\u001b[0m \u001b[0;32mTrue\u001b[0m\u001b[0;34m\u001b[0m\u001b[0;34m\u001b[0m\u001b[0m\n\u001b[1;32m    419\u001b[0m \u001b[0;34m\u001b[0m\u001b[0m\n",
      "\u001b[0;31mFileNotFoundError\u001b[0m: [Errno 2] No such file or directory: 'od_matrix.npy'"
     ]
    }
   ],
   "source": [
    "od_data = np.load('od_matrix.npy')\n",
    "duration_data = np.load('duration_matrix.npy')\n",
    "distance_data = np.load('distance_matrix.npy')\n",
    "# remove transit zones\n",
    "od_data = od_data[:-3, :-3, :]\n",
    "duration_data = duration_data[:-3, :-3, :]\n",
    "distance_data = distance_data[:-3, :-3, :]\n",
    "# set remaing nans to avg\n",
    "avg_duration = int(np.nanmean(duration_data))\n",
    "duration_data[np.isnan(duration_data)] = avg_duration\n",
    "avg_distance = int(np.nanmean(distance_data))\n",
    "distance_data[np.isnan(distance_data)] = avg_distance\n",
    "\n",
    "delta_c = 1.25 # energy step [kWh] 0.75\n",
    "time_granularity = 0.5 # in h\n",
    "cost_per_mile = 2.75 # in $\n",
    "cost_per_hour = 33 # in $ as per https://www.taxi-calculator.com/taxi-rate-san-francisco/271\n",
    "cost_per_timestep = cost_per_hour * time_granularity\n",
    "beta = 0.6 # in $ according to https://www.bls.gov/regions/west/news-release/averageenergyprices_sanfrancisco.htm#:~:text=San%20Francisco%20area%20households%20paid,per%20therm%20spent%20last%20year -> gives cost for kwh (0.30$/kwh)) + 0.30$ for maintenance \n",
    "chevy_bolt_capacity = 60 # in kWh\n",
    "chevy_bolt_usable_capacity = chevy_bolt_capacity * 0.6 # never go below 20% or above 80% of charge\n",
    "charger_capacity = 22.5 # assuming 22.5 kW Chargers\n",
    "charge_time_per_delta_c = math.ceil((delta_c/charger_capacity)/time_granularity)\n",
    "chevy_bolt_range = 230 # range in mi for mild city trips according to https://media.chevrolet.com/media/us/en/chevrolet/2022-bolt-euv-bolt-ev.detail.html/content/Pages/news/us/en/2021/feb/0214-boltev-bolteuv-specifications.html\n",
    "chevy_bolt_usable_range = chevy_bolt_range*0.6*0.9 # never go below 20% or above 80% of charge and assume 10% less efficient because of range https://cleantechnica.com/2017/10/13/autonomous-cars-shorter-range-due-high-power-consumption-computers/\n",
    "chevy_bolt_kwh_per_mi = chevy_bolt_usable_capacity/chevy_bolt_usable_range\n",
    "# print(chevy_bolt_kwh_per_mi)\n",
    "energy_distance = np.ceil(((distance_data * chevy_bolt_kwh_per_mi)/delta_c).max(axis=2))\n",
    "energy_distance[energy_distance==0] = 1 # we should always use energy to satisfy a trip\n",
    "np.save('energy_distance.npy', energy_distance)\n",
    "# print(np.sum(energy_distance==1.))\n",
    "# print(energy_distance.max())\n",
    "duration_data = np.round(duration_data/(3600*time_granularity)) # convert travel time from sec to h\n",
    "duration_data[duration_data==0] = 1. # it should always take time to satisfy a trip\n",
    "data_timespan = od_data.shape[2]\n",
    "episode_length = int(data_timespan/time_granularity)\n",
    "fleet_size = 116616 # got number from Justin Lukes optimization with boundary:283905, without boundary:116616\n",
    "number_chargelevels = int(chevy_bolt_usable_capacity/delta_c)\n",
    "number_spatial_nodes = 100\n",
    "print(number_chargelevels)"
   ]
  },
  {
   "cell_type": "code",
   "execution_count": 8,
   "metadata": {},
   "outputs": [],
   "source": [
    "new_tripAttr = []\n",
    "new_reb_time = []\n",
    "new_total_acc = []\n",
    "for origin in range(duration_data.shape[0]):\n",
    "    for destination in range(duration_data.shape[1]):\n",
    "        for ts in range(episode_length):\n",
    "            attr = defaultdict()\n",
    "            attr['time_stamp'] = ts\n",
    "            attr['origin'] = origin\n",
    "            attr['destination'] = destination\n",
    "            attr['demand'] = round(od_data[origin,destination,int(ts*time_granularity)]*time_granularity) # create equal distributed demand over granular time\n",
    "            attr['price'] = (profit_per_mile + cost_per_mile) * distance_data[origin,destination,int(ts*time_granularity)]\n",
    "            new_tripAttr.append(attr)\n",
    "\n",
    "            reb = defaultdict()\n",
    "            reb['time_stamp'] = ts\n",
    "            reb['origin'] = origin\n",
    "            reb['destination'] = destination\n",
    "            reb['reb_time'] = int(duration_data[origin,destination,int(ts*time_granularity)])\n",
    "            new_reb_time.append(reb)\n",
    "\n",
    "for hour in range(24):\n",
    "    acc = defaultdict()\n",
    "    acc['hour'] = hour\n",
    "    acc['acc'] = math.ceil(fleet_size)\n",
    "    new_total_acc.append(acc)\n",
    "new_data = defaultdict()\n",
    "new_data['demand'] = new_tripAttr\n",
    "new_data['rebTime'] = new_reb_time\n",
    "new_data['totalAcc'] = new_total_acc\n",
    "new_data['chargelevels'] = number_chargelevels\n",
    "new_data['spacialNodes'] = number_spatial_nodes\n",
    "new_data['chargeTime'] = charge_time_per_delta_c\n",
    "new_data['episodeLength'] = episode_length\n",
    "\n",
    "with open('SF_10.json', 'w') as f:\n",
    "    json.dump(new_data, f)"
   ]
  },
  {
   "cell_type": "code",
   "execution_count": 4,
   "metadata": {},
   "outputs": [
    {
     "name": "stdout",
     "output_type": "stream",
     "text": [
      "1362240\n",
      "(4, 4, 24)\n",
      "here 38872\n",
      "1040926\n",
      "(4, 4, 24)\n",
      "here 38872\n",
      "851888\n",
      "(4, 4, 24)\n",
      "here 38872\n"
     ]
    }
   ],
   "source": [
    "subproblem_0 = [0,4]\n",
    "subproblem_1 = [3,7]\n",
    "subproblem_2 = [6,10]\n",
    "subproblem_fleet_size = math.ceil(fleet_size/3.)\n",
    "number_chargelevels_subproblem = 5\n",
    "number_spatial_nodes_subproblem = subproblem_0[1]-subproblem_0[0]\n",
    "\n",
    "subproblem_idx = -1\n",
    "for subproblem in np.array([subproblem_0, subproblem_1, subproblem_2]):\n",
    "    subproblem_idx += 1\n",
    "    begin = subproblem[0]\n",
    "    end = subproblem[1]\n",
    "    od_subproblem = od_data[begin:end, begin:end, :]\n",
    "    print(sum(sum(sum(od_subproblem))))\n",
    "    print(od_subproblem.shape)\n",
    "    duration_subproblem = duration_data[begin:end, begin:end, :]\n",
    "    distance_subproblem = distance_data[begin:end, begin:end, :]\n",
    "    energy_subproblem = energy_distance[begin:end, begin:end]\n",
    "    new_tripAttr = []\n",
    "    new_reb_time = []\n",
    "    new_total_acc = []\n",
    "    for origin in range(duration_subproblem.shape[0]):\n",
    "        for destination in range(duration_subproblem.shape[1]):\n",
    "            for ts in range(episode_length):\n",
    "                attr = defaultdict()\n",
    "                attr['time_stamp'] = ts\n",
    "                attr['origin'] = origin\n",
    "                attr['destination'] = destination\n",
    "                attr['demand'] = round(od_subproblem[origin,destination,int(ts*time_granularity)]*time_granularity) # create equal distributed demand over granular time\n",
    "                attr['price'] = (profit_per_mile + cost_per_mile) * distance_subproblem[origin,destination,int(ts*time_granularity)]\n",
    "                new_tripAttr.append(attr)\n",
    "\n",
    "                reb = defaultdict()\n",
    "                reb['time_stamp'] = ts\n",
    "                reb['origin'] = origin\n",
    "                reb['destination'] = destination\n",
    "                reb['reb_time'] = int(duration_subproblem[origin,destination,int(ts*time_granularity)])\n",
    "                new_reb_time.append(reb)\n",
    "    np.save('subproblem_'+str(subproblem_idx)+'_energy_distance.npy', energy_subproblem)\n",
    "    for hour in range(24):\n",
    "        acc = defaultdict()\n",
    "        acc['hour'] = hour\n",
    "        acc['acc'] = math.ceil(subproblem_fleet_size)\n",
    "        new_total_acc.append(acc)\n",
    "    new_data = defaultdict()\n",
    "    new_data['demand'] = new_tripAttr\n",
    "    new_data['rebTime'] = new_reb_time\n",
    "    new_data['totalAcc'] = new_total_acc\n",
    "    new_data['chargelevels'] = number_chargelevels_subproblem\n",
    "    new_data['spacialNodes'] = number_spatial_nodes_subproblem\n",
    "    new_data['chargeTime'] = charge_time_per_delta_c\n",
    "    new_data['episodeLength'] = episode_length\n",
    "    print('here',subproblem_fleet_size)\n",
    "\n",
    "    with open('subproblem_'+str(subproblem_idx)+'_SF_10.json', 'w') as f:\n",
    "        json.dump(new_data, f)"
   ]
  },
  {
   "cell_type": "code",
   "execution_count": null,
   "metadata": {},
   "outputs": [],
   "source": []
  }
 ],
 "metadata": {
  "kernelspec": {
   "display_name": "Python 3.7.12 ('pamod')",
   "language": "python",
   "name": "python3"
  },
  "language_info": {
   "codemirror_mode": {
    "name": "ipython",
    "version": 3
   },
   "file_extension": ".py",
   "mimetype": "text/x-python",
   "name": "python",
   "nbconvert_exporter": "python",
   "pygments_lexer": "ipython3",
   "version": "3.7.12"
  },
  "orig_nbformat": 4,
  "vscode": {
   "interpreter": {
    "hash": "0f8edb555df32b3dff9504d8c4d29eadaf231ea869cc9ae1afb4d8556d0e264c"
   }
  }
 },
 "nbformat": 4,
 "nbformat_minor": 2
}
